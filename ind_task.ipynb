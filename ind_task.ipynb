{
 "cells": [
  {
   "cell_type": "markdown",
   "id": "07df7667",
   "metadata": {},
   "source": [
    "# Дана целочисленная квадратная матрица. Определить:\n",
    "1. Сумму элементов в тех столбцах, которые не содержат отрицательных элементов;\n",
    "2. Минимум среди сумм модулей элементов диагоналей, параллельных побочной диагонали\n",
    "матрицы."
   ]
  },
  {
   "cell_type": "markdown",
   "id": "20493686",
   "metadata": {},
   "source": [
    "Инициализирую матрицу и импортирую NumPy"
   ]
  },
  {
   "cell_type": "code",
   "execution_count": 2,
   "id": "202f6abc",
   "metadata": {},
   "outputs": [],
   "source": [
    "import numpy as np "
   ]
  },
  {
   "cell_type": "code",
   "execution_count": 5,
   "id": "73f965fa",
   "metadata": {},
   "outputs": [
    {
     "name": "stdout",
     "output_type": "stream",
     "text": [
      "Enter the size of the matrix: 5\n"
     ]
    }
   ],
   "source": [
    "n = int(input(\"Enter the size of the matrix: \"))"
   ]
  },
  {
   "cell_type": "code",
   "execution_count": 14,
   "id": "0c4d0687",
   "metadata": {},
   "outputs": [
    {
     "name": "stdout",
     "output_type": "stream",
     "text": [
      "[[ 13  59  83  69  -4]\n",
      " [ 32  33   4  20  33]\n",
      " [ 49  34  25 -17  96]\n",
      " [ -5   7  90  13  76]\n",
      " [ 53  82  49  94  63]]\n"
     ]
    }
   ],
   "source": [
    "matrix = np.random.randint(-20, 100, (n, n))\n",
    "print(matrix)"
   ]
  },
  {
   "cell_type": "markdown",
   "id": "c1db8afa",
   "metadata": {},
   "source": [
    "# 1.  Сумма элементов в тех столбцах, которые не содержат отрицательных элементов"
   ]
  },
  {
   "cell_type": "markdown",
   "id": "581708a9",
   "metadata": {},
   "source": [
    "Вывожу массив boolean по столбац, в которых минимальный элемент больше нуля:"
   ]
  },
  {
   "cell_type": "code",
   "execution_count": 20,
   "id": "d38c9bfe",
   "metadata": {},
   "outputs": [
    {
     "name": "stdout",
     "output_type": "stream",
     "text": [
      "[False  True  True False False]\n"
     ]
    }
   ],
   "source": [
    "print(matrix.min(axis=0) > 0)"
   ]
  },
  {
   "cell_type": "markdown",
   "id": "d0ff67ef",
   "metadata": {},
   "source": [
    "Здесь я уже попытался вывести только столбцы матрицы, которые не содержали отрицательных элементов:"
   ]
  },
  {
   "cell_type": "code",
   "execution_count": 25,
   "id": "03c4995b",
   "metadata": {},
   "outputs": [
    {
     "name": "stdout",
     "output_type": "stream",
     "text": [
      "[[59 83]\n",
      " [33  4]\n",
      " [34 25]\n",
      " [ 7 90]\n",
      " [82 49]]\n"
     ]
    }
   ],
   "source": [
    "print(matrix[:, matrix.min(axis=0) > 0])"
   ]
  },
  {
   "cell_type": "markdown",
   "id": "81ec3568",
   "metadata": {},
   "source": [
    "Узнав как получить доступ к нужным мне столбцам, посчитал их сумму:"
   ]
  },
  {
   "cell_type": "code",
   "execution_count": 26,
   "id": "de937e15",
   "metadata": {},
   "outputs": [
    {
     "name": "stdout",
     "output_type": "stream",
     "text": [
      "466\n"
     ]
    }
   ],
   "source": [
    "summa = np.sum(matrix[:, matrix.min(axis=0) > 0])\n",
    "print(summa)"
   ]
  },
  {
   "cell_type": "markdown",
   "id": "c61734e6",
   "metadata": {},
   "source": [
    "# 2. Минимум среди сумм модулей элементов диагоналей, параллельных побочной диагонали матрицы"
   ]
  },
  {
   "cell_type": "code",
   "execution_count": 2,
   "id": "6dd689d4",
   "metadata": {},
   "outputs": [],
   "source": [
    "import numpy as np "
   ]
  },
  {
   "cell_type": "code",
   "execution_count": 3,
   "id": "ee6d4140",
   "metadata": {},
   "outputs": [
    {
     "name": "stdout",
     "output_type": "stream",
     "text": [
      "Enter the size of the matrix: 5\n"
     ]
    }
   ],
   "source": [
    "n = int(input(\"Enter the size of the matrix: \"))"
   ]
  },
  {
   "cell_type": "markdown",
   "id": "2343d9a2",
   "metadata": {},
   "source": [
    "После ввода размерности матрицы задаю матрицу со случайными числами. Затем применяю к матрице модуль, чтобы посчитать сумму модулей элементов."
   ]
  },
  {
   "cell_type": "code",
   "execution_count": 15,
   "id": "4a60d8a2",
   "metadata": {},
   "outputs": [
    {
     "name": "stdout",
     "output_type": "stream",
     "text": [
      "[[101  11 150 151 201]\n",
      " [ 62 112 256  99   2]\n",
      " [101 103 197 173 248]\n",
      " [129  73  56  19 297]\n",
      " [ 35 293 150 280 234]]\n"
     ]
    }
   ],
   "source": [
    "matrix = np.random.randint(-20, 300, (n, n))\n",
    "matrix = np.absolute(matrix)\n",
    "print(matrix)"
   ]
  },
  {
   "cell_type": "markdown",
   "id": "7193759b",
   "metadata": {},
   "source": [
    "Минимум сумм находится функцией min, применённой к списку, элементами которого являются суммы диагоналей, возвращаемые функцией trace() со смещением по диагоналей, параллельным побочной диагонали. Они высчитываются благодаря перевороту матрицы функцией fliplr()."
   ]
  },
  {
   "cell_type": "code",
   "execution_count": 17,
   "id": "71a42b29",
   "metadata": {},
   "outputs": [
    {
     "name": "stdout",
     "output_type": "stream",
     "text": [
      "73\n"
     ]
    }
   ],
   "source": [
    "min_sum = min([np.fliplr(matrix).trace(offset=i) for i in range(-(n-1), n)])\n",
    "print(min_sum)"
   ]
  }
 ],
 "metadata": {
  "kernelspec": {
   "display_name": "Python 3",
   "language": "python",
   "name": "python3"
  },
  "language_info": {
   "codemirror_mode": {
    "name": "ipython",
    "version": 3
   },
   "file_extension": ".py",
   "mimetype": "text/x-python",
   "name": "python",
   "nbconvert_exporter": "python",
   "pygments_lexer": "ipython3",
   "version": "3.8.8"
  }
 },
 "nbformat": 4,
 "nbformat_minor": 5
}
