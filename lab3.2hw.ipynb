{
 "cells": [
  {
   "cell_type": "markdown",
   "metadata": {},
   "source": [
    "# Лабораторная работа 3.2. Домашнее задание"
   ]
  },
  {
   "cell_type": "markdown",
   "metadata": {},
   "source": [
    "### Задание №1"
   ]
  },
  {
   "cell_type": "markdown",
   "metadata": {},
   "source": [
    "Создайте два массива: в первом должны быть четные числа от 2 до 12 включительно, а в другом числа 7, 11, 15, 18, 23, 29."
   ]
  },
  {
   "cell_type": "markdown",
   "metadata": {},
   "source": [
    "$1.$ Сложите массивы и возведите элементы получившегося массива в квадрат:"
   ]
  },
  {
   "cell_type": "code",
   "execution_count": 3,
   "metadata": {
    "jupyter": {
     "outputs_hidden": true
    }
   },
   "outputs": [
    {
     "name": "stdout",
     "output_type": "stream",
     "text": [
      "[ 9 15 21 26 33 41]\n",
      "[  81  225  441  676 1089 1681]\n"
     ]
    }
   ],
   "source": [
    "import numpy as np\n",
    "a = np.arange(2, 13, 2)\n",
    "b = np.array([7, 11, 15, 18, 23, 29])\n",
    "print(a + b)\n",
    "print((a + b) ** 2)"
   ]
  },
  {
   "cell_type": "markdown",
   "metadata": {},
   "source": [
    "$2.$ Выведите все элементы из первого массива, индексы которых соответствуют индексам тех элементов второго массива, которые больше 12 и дают остаток 3 при делении на 5."
   ]
  },
  {
   "cell_type": "code",
   "execution_count": 5,
   "metadata": {
    "jupyter": {
     "outputs_hidden": true
    }
   },
   "outputs": [
    {
     "name": "stdout",
     "output_type": "stream",
     "text": [
      "[ 8 10]\n"
     ]
    }
   ],
   "source": [
    "print(a[np.logical_and(b > 12, b % 5 == 3)])"
   ]
  },
  {
   "cell_type": "markdown",
   "metadata": {},
   "source": [
    "*3.* Проверьте условие \"Элементы первого массива делятся на 4, элементы второго массива меньше 14\". (Подсказка: в результате должен получиться массив с True и False)"
   ]
  },
  {
   "cell_type": "code",
   "execution_count": 7,
   "metadata": {},
   "outputs": [
    {
     "name": "stdout",
     "output_type": "stream",
     "text": [
      "[False  True False False False False]\n"
     ]
    }
   ],
   "source": [
    "print((a % 4 == 0) & (b < 14))"
   ]
  },
  {
   "cell_type": "markdown",
   "metadata": {},
   "source": [
    "### Задание №2"
   ]
  },
  {
   "cell_type": "markdown",
   "metadata": {},
   "source": [
    "* Найдите интересный для вас датасет. Например, можно выбрать датасет тут. http://data.un.org/Explorer.aspx (выбираете датасет, жмете на view data, потом download, выбирайте csv формат)\n",
    "* Рассчитайте подходящие описательные статистики для признаков объектов в выбранном датасете\n",
    "* Проанализируйте и прокомментируйте содержательно получившиеся результаты\n",
    "* Все комментарии оформляйте строго в ячейках формата markdown\n",
    "    "
   ]
  },
  {
   "cell_type": "markdown",
   "metadata": {},
   "source": [
    "Для анализа выбран csv файл, содержащий информацию о росте мужчин и женщин по странам мира. Анализировались данные для топ 10 стран, в которых вычислялились статистические характеристики для мужчин и для женщин, а также в конце вычислен коэффициент корреляции для мужчин из топ 10 и мужчин из 10 последних стран по росту."
   ]
  },
  {
   "cell_type": "code",
   "execution_count": 4,
   "metadata": {
    "jupyter": {
     "outputs_hidden": true
    }
   },
   "outputs": [],
   "source": [
    "import csv\n",
    "import numpy as np"
   ]
  },
  {
   "cell_type": "code",
   "execution_count": 5,
   "metadata": {},
   "outputs": [],
   "source": [
    "with open('MF_height.csv', 'r', newline='') as csvfile:\n",
    "    data = csv.reader(csvfile, delimiter=',')\n",
    "    men_height = []\n",
    "    women_height = []\n",
    "    last10_men = []\n",
    "    for row in data:\n",
    "        if row[0] != \"Rank\" and int(row[0]) <= 10:\n",
    "            men_height.append(float(row[2]))\n",
    "            women_height.append(float(row[3]))\n",
    "        if row[0] != \"Rank\" and 180 < int(row[0]) <= 190:\n",
    "            last10_men.append(float(row[2]))"
   ]
  },
  {
   "cell_type": "code",
   "execution_count": 6,
   "metadata": {},
   "outputs": [
    {
     "name": "stdout",
     "output_type": "stream",
     "text": [
      "Среднее значение роста мужчин из топ 10 стран: 182.06900000000002\n",
      "Среднее значение роста женщин из топ 10 стран: 168.59199999999998\n",
      "Среднее отклонение для мужчин: 0.9499310501294319\n",
      "Среднее отклонение для женщин: 1.080932930389304\n",
      "Коэффициент парной корреляции: [[1.         0.73824827]\n",
      " [0.73824827 1.        ]]\n",
      "Коэффициент парной корреляции для мужчин из топ с 10-ю последними странами:[[1.         0.98096368]\n",
      " [0.98096368 1.        ]]\n"
     ]
    }
   ],
   "source": [
    "men_arr = np.array(men_height)\n",
    "women_arr = np.array(women_height)\n",
    "print(f\"Среднее значение роста мужчин из топ 10 стран: {np.mean(men_arr)}\")\n",
    "print(f\"Среднее значение роста женщин из топ 10 стран: {np.mean(women_arr)}\")\n",
    "print(f\"Среднее отклонение для мужчин: {np.std(men_arr)}\")\n",
    "print(f\"Среднее отклонение для женщин: {np.std(women_arr)}\")\n",
    "print(f\"Коэффициент парной корреляции: {np.corrcoef(men_arr, women_arr)}\")\n",
    "print(\n",
    "\"Коэффициент парной корреляции для мужчин из топ с 10-ю последними странами:\"\n",
    "    f\"{np.corrcoef(men_arr, last10_men)}\"\n",
    "    )"
   ]
  }
 ],
 "metadata": {
  "kernelspec": {
   "display_name": "Python 3",
   "language": "python",
   "name": "python3"
  },
  "language_info": {
   "codemirror_mode": {
    "name": "ipython",
    "version": 3
   },
   "file_extension": ".py",
   "mimetype": "text/x-python",
   "name": "python",
   "nbconvert_exporter": "python",
   "pygments_lexer": "ipython3",
   "version": "3.8.8"
  }
 },
 "nbformat": 4,
 "nbformat_minor": 4
}
